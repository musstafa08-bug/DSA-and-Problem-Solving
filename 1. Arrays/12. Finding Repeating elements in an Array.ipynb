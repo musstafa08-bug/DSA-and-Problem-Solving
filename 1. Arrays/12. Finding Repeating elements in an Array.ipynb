{
 "cells": [
  {
   "cell_type": "code",
   "execution_count": 1,
   "id": "b76c54d0",
   "metadata": {},
   "outputs": [
    {
     "name": "stdout",
     "output_type": "stream",
     "text": [
      "8\n",
      "10 30 40 20 10 20 50 10\n",
      "10\n",
      "20\n"
     ]
    }
   ],
   "source": [
    "def repeat(arr, n):\n",
    "    visited = [False for i in range(n)]\n",
    "    for i in range(n):\n",
    "        if visited[i] == True:\n",
    "            continue\n",
    "        count = 1\n",
    "        for j in range(i+1, n):\n",
    "            if arr[i] == arr[j]:\n",
    "                visited[j] = True\n",
    "                count += 1\n",
    "        if count != 1:\n",
    "            print(arr[i])\n",
    "if __name__ == \"__main__\":\n",
    "    n = int(input())\n",
    "    arr = list(map(int, input().split()))\n",
    "    repeat(arr, n)"
   ]
  },
  {
   "cell_type": "code",
   "execution_count": 2,
   "id": "d79c2286",
   "metadata": {},
   "outputs": [
    {
     "name": "stdout",
     "output_type": "stream",
     "text": [
      "Enter nuimber of elements: 8\n",
      "10 30 40 20 10 20 50 10\n",
      "10\n",
      "20\n"
     ]
    }
   ],
   "source": [
    "def repeat(arr, n):\n",
    "    dictionary = dict()\n",
    "    for i in range(n):\n",
    "        if arr[i] in dictionary.keys():\n",
    "            dictionary[arr[i]] += 1\n",
    "        else:\n",
    "            dictionary[arr[i]] = 1\n",
    "    for x in dictionary:\n",
    "        if dictionary[x] != 1:\n",
    "            print(x)\n",
    "if __name__ == \"__main__\":\n",
    "    n =int(input(\"Enter nuimber of elements: \"))\n",
    "    arr = list(map(int, input().split()))\n",
    "    repeat(arr, n)"
   ]
  },
  {
   "cell_type": "code",
   "execution_count": null,
   "id": "2a0708fd",
   "metadata": {},
   "outputs": [],
   "source": []
  }
 ],
 "metadata": {
  "kernelspec": {
   "display_name": "Python 3 (ipykernel)",
   "language": "python",
   "name": "python3"
  },
  "language_info": {
   "codemirror_mode": {
    "name": "ipython",
    "version": 3
   },
   "file_extension": ".py",
   "mimetype": "text/x-python",
   "name": "python",
   "nbconvert_exporter": "python",
   "pygments_lexer": "ipython3",
   "version": "3.9.7"
  }
 },
 "nbformat": 4,
 "nbformat_minor": 5
}
