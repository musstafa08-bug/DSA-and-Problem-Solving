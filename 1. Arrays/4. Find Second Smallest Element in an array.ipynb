{
 "cells": [
  {
   "cell_type": "markdown",
   "id": "089aba94",
   "metadata": {},
   "source": [
    "# Find Second Smallest Element in an array"
   ]
  },
  {
   "cell_type": "code",
   "execution_count": 2,
   "id": "70a6dccd",
   "metadata": {},
   "outputs": [
    {
     "name": "stdout",
     "output_type": "stream",
     "text": [
      "enter number of elements: 7\n",
      "64 78 29 10 52 90 13\n",
      "Second smallest element in the array is:  13\n"
     ]
    }
   ],
   "source": [
    "# using iteration\n",
    "n = int(input(\"enter number of elements: \"))\n",
    "arr = list(map(int, input().split()))\n",
    "first = second = max(arr)\n",
    "for i in range(0, n):\n",
    "    if arr[i] < first:\n",
    "        first = arr[i]\n",
    "    elif arr[i] < second and arr[i] != 1:\n",
    "        second = arr[i]\n",
    "print(\"Second smallest element in the array is: \", second)"
   ]
  },
  {
   "cell_type": "code",
   "execution_count": 3,
   "id": "fb82594f",
   "metadata": {},
   "outputs": [
    {
     "name": "stdout",
     "output_type": "stream",
     "text": [
      "Enter number of elements: 7\n",
      "64 78 29 10 52 90 13\n",
      "Second smallest element is: 13\n"
     ]
    }
   ],
   "source": [
    "# using sort\n",
    "n = int(input(\"Enter number of elements: \"))\n",
    "arr = list(map(int, input().split()))\n",
    "arr.sort()\n",
    "print(\"Second smallest element is:\", arr[1])"
   ]
  },
  {
   "cell_type": "code",
   "execution_count": null,
   "id": "d3bc6c19",
   "metadata": {},
   "outputs": [],
   "source": []
  }
 ],
 "metadata": {
  "kernelspec": {
   "display_name": "Python 3 (ipykernel)",
   "language": "python",
   "name": "python3"
  },
  "language_info": {
   "codemirror_mode": {
    "name": "ipython",
    "version": 3
   },
   "file_extension": ".py",
   "mimetype": "text/x-python",
   "name": "python",
   "nbconvert_exporter": "python",
   "pygments_lexer": "ipython3",
   "version": "3.9.7"
  }
 },
 "nbformat": 4,
 "nbformat_minor": 5
}
