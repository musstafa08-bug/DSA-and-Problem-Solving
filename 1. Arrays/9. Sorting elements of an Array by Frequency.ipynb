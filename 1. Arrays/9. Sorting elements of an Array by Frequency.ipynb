{
 "cells": [
  {
   "cell_type": "markdown",
   "id": "bad6da2a",
   "metadata": {},
   "source": [
    "# Sorting elements of an Array by Frequency"
   ]
  },
  {
   "cell_type": "code",
   "execution_count": 3,
   "id": "bb817fde",
   "metadata": {},
   "outputs": [
    {
     "name": "stdout",
     "output_type": "stream",
     "text": [
      "Enter number of elements: 10\n",
      "10 20 20 30 30 30 40 40 40 40\n",
      "10 1\n",
      "20 2\n",
      "30 3\n",
      "40 4\n",
      "[40, 40, 40, 40, 30, 30, 30, 20, 20, 10]\n"
     ]
    }
   ],
   "source": [
    "def sort_by_freq(arr, n):\n",
    "    visited = [False for i in range(n)]\n",
    "    for i in range(n):\n",
    "        if visited[i] == True:\n",
    "            continue\n",
    "        count = 1\n",
    "        for j in  range(i + 1, n):\n",
    "            if arr[i] == arr[j]:\n",
    "                visited[j] = True\n",
    "                count += 1\n",
    "        print(arr[i], count)\n",
    "    print(sorted(arr, reverse = True))\n",
    "    \n",
    "\n",
    "if __name__ == \"__main__\":\n",
    "    n = int(input('Enter number of elements: '))\n",
    "    arr = list(map(int, input().split()))\n",
    "    sort_by_freq(arr, n)"
   ]
  },
  {
   "cell_type": "code",
   "execution_count": 10,
   "id": "32838b4d",
   "metadata": {},
   "outputs": [
    {
     "name": "stdout",
     "output_type": "stream",
     "text": [
      "Enter number of elements: 10\n",
      "10 20 20 30 30 30 40 40 40 40\n",
      "10 1\n",
      "20 2\n",
      "30 3\n",
      "40 4\n",
      "[40, 40, 40, 40, 30, 30, 30, 20, 20, 10]\n"
     ]
    }
   ],
   "source": [
    "def countdistinct(arr, n):\n",
    "    arr.sort()\n",
    "    i = 0\n",
    "    while i < n:\n",
    "        count = 1\n",
    "        for j in range(i + 1, n):\n",
    "            if arr[i] == arr[j]:\n",
    "                count += 1\n",
    "            else:\n",
    "                break\n",
    "        print(arr[i], count)\n",
    "        i += count\n",
    "    print(sorted(arr, reverse = True))\n",
    "if __name__ == \"__main__\":\n",
    "    n = int(input(\"Enter number of elements: \"))\n",
    "    arr = list(map(int, input().split()))\n",
    "    countdistinct(arr, n)"
   ]
  },
  {
   "cell_type": "code",
   "execution_count": null,
   "id": "e1bc201d",
   "metadata": {},
   "outputs": [],
   "source": []
  }
 ],
 "metadata": {
  "kernelspec": {
   "display_name": "Python 3 (ipykernel)",
   "language": "python",
   "name": "python3"
  },
  "language_info": {
   "codemirror_mode": {
    "name": "ipython",
    "version": 3
   },
   "file_extension": ".py",
   "mimetype": "text/x-python",
   "name": "python",
   "nbconvert_exporter": "python",
   "pygments_lexer": "ipython3",
   "version": "3.9.7"
  }
 },
 "nbformat": 4,
 "nbformat_minor": 5
}
