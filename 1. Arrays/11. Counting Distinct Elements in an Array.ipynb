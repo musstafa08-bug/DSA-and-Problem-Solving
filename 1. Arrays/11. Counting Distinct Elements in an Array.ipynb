{
 "cells": [
  {
   "cell_type": "code",
   "execution_count": 4,
   "id": "e44db7aa",
   "metadata": {},
   "outputs": [
    {
     "name": "stdout",
     "output_type": "stream",
     "text": [
      "Enter number of elements: 8\n",
      "10 30 40 20 10 20 50 10\n",
      "Distinct elements in the array is:  5\n"
     ]
    }
   ],
   "source": [
    "def distinct(arr, n):\n",
    "    visited = [False for i in range(n)]\n",
    "    distinct_count = 0\n",
    "    for i in range(n):\n",
    "        if visited[i] == True:\n",
    "            continue\n",
    "        for j in range(i+1, n):\n",
    "            if arr[i] == arr[j]:\n",
    "                visited[j] = True\n",
    "        distinct_count += 1\n",
    "    return distinct_count\n",
    "\n",
    "if __name__ == \"__main__\":\n",
    "    n = int(input(\"Enter number of elements: \"))\n",
    "    arr = list(map(int, input().split()))\n",
    "    print(\"Distinct elements in the array is: \", distinct(arr, n))"
   ]
  },
  {
   "cell_type": "code",
   "execution_count": 6,
   "id": "29419838",
   "metadata": {},
   "outputs": [
    {
     "name": "stdout",
     "output_type": "stream",
     "text": [
      "Enter number of elements: 8\n",
      "10\n",
      "30\n",
      "40\n",
      "20\n",
      "10\n",
      "20\n",
      "50\n",
      "10\n",
      "[10, 30, 40, 20, 10, 20, 50, 10]\n",
      "Count of distinct elements in array:  5\n"
     ]
    }
   ],
   "source": [
    "def count_distinct(arr, n):\n",
    "    dictionary = dict()\n",
    "    for i in range(n):\n",
    "        if arr[i] in dictionary.keys():\n",
    "            dictionary[arr[i]] += 1\n",
    "        else:\n",
    "            dictionary[arr[i]] = 1\n",
    "    return len(dictionary)\n",
    "\n",
    "if __name__ == '__main__':\n",
    "    n = int(input(\"Enter number of elements: \"))\n",
    "    arr = []\n",
    "    for i in range(n):\n",
    "        ele = int(input())\n",
    "        arr.append(ele)\n",
    "    print(arr)\n",
    "    print(\"Count of distinct elements in array: \",count_distinct(arr, n))"
   ]
  },
  {
   "cell_type": "markdown",
   "id": "ca3378d3",
   "metadata": {},
   "source": [
    "## Print Distinct Elements Also"
   ]
  },
  {
   "cell_type": "code",
   "execution_count": 9,
   "id": "ddccd468",
   "metadata": {},
   "outputs": [
    {
     "name": "stdout",
     "output_type": "stream",
     "text": [
      "Enter number of elements: 8\n",
      "10 30 40 20 10 20 50 10\n",
      "Count of distinct element in array:  3\n",
      "Distinct element present in the array are:  [30, 40, 50]\n"
     ]
    }
   ],
   "source": [
    "def distinct(arr, n):\n",
    "    visited = [False for i in range(n)]\n",
    "    count_distinct = 0\n",
    "    distinct_elements = []\n",
    "    \n",
    "    for i in range(n):\n",
    "        if visited[i] == True:\n",
    "            continue\n",
    "        is_duplicate = False\n",
    "        for j in range(i+1, n):\n",
    "            if arr[i] == arr[j]:\n",
    "                visited[j] = True\n",
    "                is_duplicate = True\n",
    "        if not is_duplicate:\n",
    "            distinct_elements.append(arr[i])\n",
    "            count_distinct += 1\n",
    "    return count_distinct, distinct_elements\n",
    "\n",
    "if __name__ == \"__main__\":\n",
    "    n = int(input(\"Enter number of elements: \"))\n",
    "    arr = list(map(int, input().split()))\n",
    "    distinct_count, distinct_elements = distinct(arr, n)\n",
    "    print(\"Count of distinct element in array: \", distinct_count)\n",
    "    print(\"Distinct element present in the array are: \", distinct_elements)"
   ]
  },
  {
   "cell_type": "code",
   "execution_count": null,
   "id": "73856d9d",
   "metadata": {},
   "outputs": [],
   "source": []
  }
 ],
 "metadata": {
  "kernelspec": {
   "display_name": "Python 3 (ipykernel)",
   "language": "python",
   "name": "python3"
  },
  "language_info": {
   "codemirror_mode": {
    "name": "ipython",
    "version": 3
   },
   "file_extension": ".py",
   "mimetype": "text/x-python",
   "name": "python",
   "nbconvert_exporter": "python",
   "pygments_lexer": "ipython3",
   "version": "3.9.7"
  }
 },
 "nbformat": 4,
 "nbformat_minor": 5
}
