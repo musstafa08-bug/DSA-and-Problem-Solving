{
 "cells": [
  {
   "cell_type": "code",
   "execution_count": 1,
   "id": "d3dd5945",
   "metadata": {},
   "outputs": [
    {
     "name": "stdout",
     "output_type": "stream",
     "text": [
      "Enter number of elements:5\n",
      "12321 454 789 24631 151\n",
      "Largest Palindrome: 12321\n"
     ]
    }
   ],
   "source": [
    "def reverse(arr):\n",
    "    return arr[::-1]\n",
    "\n",
    "def palindrome(arr):\n",
    "    rev = reverse(arr)\n",
    "    if (arr == rev):\n",
    "        return True\n",
    "    return False\n",
    "\n",
    "def largest_palindrome(A, n):\n",
    "    A.sort()\n",
    "    for i in range(n-1, -1 , -1):\n",
    "        arr = str(A[i])\n",
    "        if palindrome(arr) == True:\n",
    "            return A[i]\n",
    "    return False\n",
    "\n",
    "n = int(input(\"Enter number of elements:\"))\n",
    "arr = list(map(int, input().split()))\n",
    "print(\"Largest Palindrome: %d\" %(largest_palindrome(arr, n)))"
   ]
  },
  {
   "cell_type": "code",
   "execution_count": 18,
   "id": "4b29543e",
   "metadata": {},
   "outputs": [
    {
     "name": "stdout",
     "output_type": "stream",
     "text": [
      "Enter the number of entries: 5\n",
      "Enter the elements: 12321 454 789 24631 151\n",
      "Longest Palindrome in the Array: [12321]\n"
     ]
    }
   ],
   "source": [
    "def reverse(arr):\n",
    "    return arr == arr[::-1]\n",
    "\n",
    "def largest_palindrome(arr):\n",
    "    longest_palindrome = ''\n",
    "    for i in range(len(arr)):\n",
    "        for j in range(i, len(arr)):\n",
    "            subarray = arr[i:j + 1]\n",
    "            if reverse(subarray) and len(subarray) > len(longest_palindrome):\n",
    "                longest_palindrome = subarray\n",
    "    return longest_palindrome\n",
    "\n",
    "num = int(input(\"Enter the number of entries: \"))\n",
    "arr = list(map(int, input(\"Enter the elements: \").split()))\n",
    "result = longest_palindrome_in_array(arr)\n",
    "print(\"Longest Palindrome in the Array:\", result)"
   ]
  },
  {
   "cell_type": "code",
   "execution_count": 3,
   "id": "6d9ba997",
   "metadata": {},
   "outputs": [
    {
     "name": "stdout",
     "output_type": "stream",
     "text": [
      "Enter number of elements: 5\n",
      "12321 454 789 24631 151\n",
      "Longest Palindrome in the Array: [12321]\n"
     ]
    }
   ],
   "source": [
    "def reverse(arr):\n",
    "    return arr == arr[::-1]\n",
    "\n",
    "def largest_palindrome(arr):\n",
    "    longest_palindrome = ''\n",
    "    for i in range(len(arr)):\n",
    "        for j in range(i, len(arr)):\n",
    "            subarray = arr[i:j+1]\n",
    "            if reverse(subarray) and len(subarray) > len(longest_palindrome):\n",
    "                longest_palindrome = subarray\n",
    "    return longest_palindrome\n",
    "\n",
    "n = int(input(\"Enter number of elements: \"))\n",
    "arr = list(map(int, input().split()))\n",
    "result = largest_palindrome(arr)\n",
    "print(\"Longest Palindrome in the Array:\", result)"
   ]
  },
  {
   "cell_type": "code",
   "execution_count": null,
   "id": "d2197444",
   "metadata": {},
   "outputs": [],
   "source": []
  }
 ],
 "metadata": {
  "kernelspec": {
   "display_name": "Python 3 (ipykernel)",
   "language": "python",
   "name": "python3"
  },
  "language_info": {
   "codemirror_mode": {
    "name": "ipython",
    "version": 3
   },
   "file_extension": ".py",
   "mimetype": "text/x-python",
   "name": "python",
   "nbconvert_exporter": "python",
   "pygments_lexer": "ipython3",
   "version": "3.9.7"
  }
 },
 "nbformat": 4,
 "nbformat_minor": 5
}
