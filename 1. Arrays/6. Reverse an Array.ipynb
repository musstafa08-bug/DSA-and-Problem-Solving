{
 "cells": [
  {
   "cell_type": "markdown",
   "id": "1e98ea96",
   "metadata": {},
   "source": [
    "# Reverse an Array"
   ]
  },
  {
   "cell_type": "code",
   "execution_count": 1,
   "id": "3a32d0a4",
   "metadata": {},
   "outputs": [
    {
     "name": "stdout",
     "output_type": "stream",
     "text": [
      "Enter number of elements: 8\n",
      "1\n",
      "2\n",
      "3\n",
      "4\n",
      "5\n",
      "6\n",
      "7\n",
      "8\n",
      "Normal Array:  [1, 2, 3, 4, 5, 6, 7, 8]\n",
      "Reversed Array:  [8, 7, 6, 5, 4, 3, 2, 1]\n"
     ]
    }
   ],
   "source": [
    "n = int(input(\"Enter number of elements: \"))\n",
    "arr = []\n",
    "for i in range(n):\n",
    "    ele = int(input())\n",
    "    arr.append(ele)\n",
    "print(\"Normal Array: \",arr)\n",
    "print(\"Reversed Array: \", arr[::-1])"
   ]
  },
  {
   "cell_type": "code",
   "execution_count": 2,
   "id": "31859f91",
   "metadata": {},
   "outputs": [
    {
     "name": "stdout",
     "output_type": "stream",
     "text": [
      "Enter number of elements: 8\n",
      "1 2 3 4 5 6 7 8\n",
      "Normal Array:  [1, 2, 3, 4, 5, 6, 7, 8]\n",
      "Reversed Array:  [8, 7, 6, 5, 4, 3, 2, 1]\n"
     ]
    }
   ],
   "source": [
    "# function\n",
    "def reversed(arr, start, end):\n",
    "    while start < end:\n",
    "        arr[start], arr[end] = arr[end], arr[start]\n",
    "        start += 1\n",
    "        end -= 1\n",
    "if __name__ == \"__main__\":\n",
    "    n = int(input(\"Enter number of elements: \"))\n",
    "    arr = list(map(int, input().split()))\n",
    "    start = 0\n",
    "    end = n-1\n",
    "    print(\"Normal Array: \", arr)\n",
    "    reversed(arr, start, end)\n",
    "    print(\"Reversed Array: \", arr)"
   ]
  },
  {
   "cell_type": "code",
   "execution_count": null,
   "id": "39a74d33",
   "metadata": {},
   "outputs": [],
   "source": []
  }
 ],
 "metadata": {
  "kernelspec": {
   "display_name": "Python 3 (ipykernel)",
   "language": "python",
   "name": "python3"
  },
  "language_info": {
   "codemirror_mode": {
    "name": "ipython",
    "version": 3
   },
   "file_extension": ".py",
   "mimetype": "text/x-python",
   "name": "python",
   "nbconvert_exporter": "python",
   "pygments_lexer": "ipython3",
   "version": "3.9.7"
  }
 },
 "nbformat": 4,
 "nbformat_minor": 5
}
