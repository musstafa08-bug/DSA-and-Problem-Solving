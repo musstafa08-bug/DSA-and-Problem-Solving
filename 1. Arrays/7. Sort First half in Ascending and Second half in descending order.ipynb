{
 "cells": [
  {
   "cell_type": "markdown",
   "id": "99bc2fb5",
   "metadata": {},
   "source": [
    "\n",
    "\n",
    "# Sort First half in Ascending and Second half in descending order"
   ]
  },
  {
   "cell_type": "code",
   "execution_count": 5,
   "id": "0c8cb214",
   "metadata": {},
   "outputs": [
    {
     "name": "stdout",
     "output_type": "stream",
     "text": [
      "Enter numbere of elements: 10\n",
      "1 2 3 4 5 6 7 8 9 10\n",
      "The new array is:  [1, 2, 3, 4, 5, 10, 9, 8, 7, 6]\n"
     ]
    }
   ],
   "source": [
    "n = int(input(\"Enter numbere of elements: \"))\n",
    "arr = list(map(int, input().split()))\n",
    "mid = len(arr)//2\n",
    "asc = arr[0:mid]\n",
    "asc.sort()\n",
    "des = arr[mid:len(arr)]\n",
    "des.sort(reverse = True)\n",
    "new_arr = asc + des\n",
    "print(\"The new array is: \", new_arr)"
   ]
  },
  {
   "cell_type": "code",
   "execution_count": null,
   "id": "a4cf2fd7",
   "metadata": {},
   "outputs": [],
   "source": []
  }
 ],
 "metadata": {
  "kernelspec": {
   "display_name": "Python 3 (ipykernel)",
   "language": "python",
   "name": "python3"
  },
  "language_info": {
   "codemirror_mode": {
    "name": "ipython",
    "version": 3
   },
   "file_extension": ".py",
   "mimetype": "text/x-python",
   "name": "python",
   "nbconvert_exporter": "python",
   "pygments_lexer": "ipython3",
   "version": "3.9.7"
  }
 },
 "nbformat": 4,
 "nbformat_minor": 5
}
