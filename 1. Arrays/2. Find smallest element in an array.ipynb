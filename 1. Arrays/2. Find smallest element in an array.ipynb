{
 "cells": [
  {
   "cell_type": "markdown",
   "id": "dd1b7858",
   "metadata": {},
   "source": [
    "# Find smallest element in an array"
   ]
  },
  {
   "cell_type": "code",
   "execution_count": 1,
   "id": "b3764502",
   "metadata": {},
   "outputs": [
    {
     "name": "stdout",
     "output_type": "stream",
     "text": [
      "Enter number of elements: 7\n",
      "10 89 9 56 4 80 8\n",
      "Minimum element in the array is:  4\n"
     ]
    }
   ],
   "source": [
    "# using iteration\n",
    "n = int(input(\"Enter number of elements: \"))\n",
    "arr = list(map(int, input().split()))\n",
    "min_ele = arr[0]\n",
    "for i in range(n):\n",
    "    if arr[i] < min_ele:\n",
    "        min_ele = arr[i]\n",
    "print(\"Minimum element in the array is: \", min_ele)"
   ]
  },
  {
   "cell_type": "code",
   "execution_count": 2,
   "id": "68ca7ed0",
   "metadata": {},
   "outputs": [
    {
     "name": "stdout",
     "output_type": "stream",
     "text": [
      "Enter number of elements: 7\n",
      "18\n",
      "89\n",
      "9\n",
      "56\n",
      "2\n",
      "88\n",
      "9\n",
      "[18, 89, 9, 56, 2, 88, 9]\n",
      "Minimum element in the array is:  2\n"
     ]
    }
   ],
   "source": [
    "#using min function\n",
    "n = int(input(\"Enter number of elements: \"))\n",
    "arr = []\n",
    "for i in range(n):\n",
    "    ele = int(input())\n",
    "    arr.append(ele)\n",
    "print(arr)\n",
    "print(\"Minimum element in the array is: \", min(arr))"
   ]
  },
  {
   "cell_type": "code",
   "execution_count": 3,
   "id": "a7f85369",
   "metadata": {},
   "outputs": [
    {
     "name": "stdout",
     "output_type": "stream",
     "text": [
      "Enter number of elements: 7\n",
      "10 89 9 56 4 80 8\n",
      "Minimum element in the array is:  4\n"
     ]
    }
   ],
   "source": [
    "# using sort\n",
    "n = int(input(\"Enter number of elements: \"))\n",
    "arr = list(map(int, input().split()))\n",
    "arr.sort()\n",
    "print(\"Minimum element in the array is: \", arr[0])"
   ]
  },
  {
   "cell_type": "code",
   "execution_count": null,
   "id": "c6868bc8",
   "metadata": {},
   "outputs": [],
   "source": []
  }
 ],
 "metadata": {
  "kernelspec": {
   "display_name": "Python 3 (ipykernel)",
   "language": "python",
   "name": "python3"
  },
  "language_info": {
   "codemirror_mode": {
    "name": "ipython",
    "version": 3
   },
   "file_extension": ".py",
   "mimetype": "text/x-python",
   "name": "python",
   "nbconvert_exporter": "python",
   "pygments_lexer": "ipython3",
   "version": "3.9.7"
  }
 },
 "nbformat": 4,
 "nbformat_minor": 5
}
