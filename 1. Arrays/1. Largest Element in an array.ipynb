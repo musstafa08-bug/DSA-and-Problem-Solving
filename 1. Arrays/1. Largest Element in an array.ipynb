{
 "cells": [
  {
   "cell_type": "markdown",
   "id": "e49d2527",
   "metadata": {},
   "source": [
    "# Largest Element in an array"
   ]
  },
  {
   "cell_type": "code",
   "execution_count": 3,
   "id": "582f9b64",
   "metadata": {},
   "outputs": [
    {
     "name": "stdout",
     "output_type": "stream",
     "text": [
      "enter number of elements: 7\n",
      "10 89 9 56 4 80 8\n",
      "Maximum element in the array is:  89\n"
     ]
    }
   ],
   "source": [
    "# using iteration\n",
    "n = int(input(\"enter number of elements: \"))\n",
    "arr = list(map(int, input().split()))\n",
    "max_ele = arr[0]\n",
    "for i in range(n):\n",
    "    if arr[i] > max_ele:\n",
    "        max_ele = arr[i]\n",
    "print(\"Maximum element in the array is: \", max_ele)"
   ]
  },
  {
   "cell_type": "code",
   "execution_count": 4,
   "id": "1f03e4aa",
   "metadata": {},
   "outputs": [
    {
     "name": "stdout",
     "output_type": "stream",
     "text": [
      "Enter number of elements: 7\n",
      "10\n",
      "89\n",
      "9\n",
      "56\n",
      "4\n",
      "80\n",
      "100\n",
      "[10, 89, 9, 56, 4, 80, 100]\n",
      "Maximum element in the array is:  100\n"
     ]
    }
   ],
   "source": [
    "# using max function\n",
    "n = int(input(\"Enter number of elements: \"))\n",
    "arr = []\n",
    "for i in range(n):\n",
    "    ele = int(input())\n",
    "    arr.append(ele)\n",
    "print(arr)\n",
    "print(\"Maximum element in the array is: \", max(arr))"
   ]
  },
  {
   "cell_type": "code",
   "execution_count": 14,
   "id": "9f57a01a",
   "metadata": {},
   "outputs": [
    {
     "name": "stdout",
     "output_type": "stream",
     "text": [
      "Enter number of elements: 7\n",
      "10 89 9 56 4 80 8\n",
      "Maximum element in the array is:  89\n"
     ]
    }
   ],
   "source": [
    "n = int(input(\"Enter number of elements: \"))\n",
    "arr = list(map(int, input().split()))\n",
    "arr.sort()\n",
    "print(\"Maximum element in the array is: \", arr[-1])    "
   ]
  },
  {
   "cell_type": "code",
   "execution_count": null,
   "id": "490b69b0",
   "metadata": {},
   "outputs": [],
   "source": []
  }
 ],
 "metadata": {
  "kernelspec": {
   "display_name": "Python 3 (ipykernel)",
   "language": "python",
   "name": "python3"
  },
  "language_info": {
   "codemirror_mode": {
    "name": "ipython",
    "version": 3
   },
   "file_extension": ".py",
   "mimetype": "text/x-python",
   "name": "python",
   "nbconvert_exporter": "python",
   "pygments_lexer": "ipython3",
   "version": "3.9.7"
  }
 },
 "nbformat": 4,
 "nbformat_minor": 5
}
