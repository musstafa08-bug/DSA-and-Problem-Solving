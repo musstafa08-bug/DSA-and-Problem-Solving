{
 "cells": [
  {
   "cell_type": "markdown",
   "id": "7d0fb8be",
   "metadata": {},
   "source": [
    "# Sum of elements in an array"
   ]
  },
  {
   "cell_type": "code",
   "execution_count": 2,
   "id": "8941c649",
   "metadata": {},
   "outputs": [
    {
     "name": "stdout",
     "output_type": "stream",
     "text": [
      "Enter number of elements: 8\n",
      "67\n",
      "28\n",
      "93\n",
      "15\n",
      "76\n",
      "42\n",
      "81\n",
      "50\n",
      "The sum of array is: 452\n"
     ]
    }
   ],
   "source": [
    "# inbuilt sum method\n",
    "n = int(input(\"Enter number of elements: \"))\n",
    "arr = []\n",
    "for i in range(n):\n",
    "    ele = int(input())\n",
    "    arr.append(ele)\n",
    "summ = sum(arr)\n",
    "print(\"The sum of array is:\", summ)"
   ]
  },
  {
   "cell_type": "code",
   "execution_count": 4,
   "id": "c7fe484d",
   "metadata": {},
   "outputs": [
    {
     "name": "stdout",
     "output_type": "stream",
     "text": [
      "Enter number of elements: 8\n",
      "67 28 93 15 76 42 81 50\n",
      "The sum of array is:  452\n"
     ]
    }
   ],
   "source": [
    "# using iteration\n",
    "n = int(input(\"Enter number of elements: \"))\n",
    "arr = list(map(int, input().split()))\n",
    "summ = 0\n",
    "for i in range(n):\n",
    "    summ = summ + arr[i]\n",
    "print(\"The sum of array is: \", summ)"
   ]
  },
  {
   "cell_type": "code",
   "execution_count": null,
   "id": "fcc0e77a",
   "metadata": {},
   "outputs": [],
   "source": []
  }
 ],
 "metadata": {
  "kernelspec": {
   "display_name": "Python 3 (ipykernel)",
   "language": "python",
   "name": "python3"
  },
  "language_info": {
   "codemirror_mode": {
    "name": "ipython",
    "version": 3
   },
   "file_extension": ".py",
   "mimetype": "text/x-python",
   "name": "python",
   "nbconvert_exporter": "python",
   "pygments_lexer": "ipython3",
   "version": "3.9.7"
  }
 },
 "nbformat": 4,
 "nbformat_minor": 5
}
