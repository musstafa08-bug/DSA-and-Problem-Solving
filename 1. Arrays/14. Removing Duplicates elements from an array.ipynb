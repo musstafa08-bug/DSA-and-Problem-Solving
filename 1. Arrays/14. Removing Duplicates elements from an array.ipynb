{
 "cells": [
  {
   "cell_type": "code",
   "execution_count": 6,
   "id": "9684fd60",
   "metadata": {},
   "outputs": [
    {
     "name": "stdout",
     "output_type": "stream",
     "text": [
      "Enter number of elements: 8\n",
      "10 20 10 20 30 30 40 50\n",
      "Array after removing duplicates:  [40, 10, 50, 20, 30]\n"
     ]
    }
   ],
   "source": [
    "def remove_dup(arr, n):\n",
    "    return list(set(arr))\n",
    "\n",
    "if __name__ == \"__main__\":\n",
    "    n = int(input('Enter number of elements: '))\n",
    "    arr = list(map(int, input().split()))\n",
    "    unique_arr = remove_dup(arr, n)\n",
    "    print(\"Array after removing duplicates: \", unique_arr)"
   ]
  },
  {
   "cell_type": "code",
   "execution_count": 7,
   "id": "1a2a2ccd",
   "metadata": {},
   "outputs": [
    {
     "name": "stdout",
     "output_type": "stream",
     "text": [
      "Enter number of elements: 8\n",
      "10 20 10 20 30 30 40 50\n",
      "Array after removing duplicates:  [10, 20, 30, 40, 50]\n"
     ]
    }
   ],
   "source": [
    "def remove_duplicate(arr, n):\n",
    "    unique_ele = []\n",
    "    for i in range(n):\n",
    "        if arr[i] not in unique_ele:\n",
    "            unique_ele.append(arr[i])\n",
    "    return unique_ele\n",
    "if __name__ == \"__main__\":\n",
    "    n = int(input('Enter number of elements: '))\n",
    "    arr = list(map(int, input().split()))\n",
    "    unique_arr = remove_duplicate(arr, n)\n",
    "    print(\"Array after removing duplicates: \", unique_arr)"
   ]
  },
  {
   "cell_type": "code",
   "execution_count": null,
   "id": "503d2d9b",
   "metadata": {},
   "outputs": [],
   "source": []
  }
 ],
 "metadata": {
  "kernelspec": {
   "display_name": "Python 3 (ipykernel)",
   "language": "python",
   "name": "python3"
  },
  "language_info": {
   "codemirror_mode": {
    "name": "ipython",
    "version": 3
   },
   "file_extension": ".py",
   "mimetype": "text/x-python",
   "name": "python",
   "nbconvert_exporter": "python",
   "pygments_lexer": "ipython3",
   "version": "3.9.7"
  }
 },
 "nbformat": 4,
 "nbformat_minor": 5
}
