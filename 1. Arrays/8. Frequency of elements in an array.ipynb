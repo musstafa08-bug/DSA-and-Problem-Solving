{
 "cells": [
  {
   "cell_type": "markdown",
   "id": "170cec7e",
   "metadata": {},
   "source": [
    "# Frequency of elements in an array"
   ]
  },
  {
   "cell_type": "code",
   "execution_count": 1,
   "id": "8cf66402",
   "metadata": {},
   "outputs": [
    {
     "name": "stdout",
     "output_type": "stream",
     "text": [
      "Enter number of elements: 8\n",
      "10 30 10 20 10 20 30 10\n",
      "Count of 10 is: 4\n",
      "Count of 30 is: 2\n",
      "Count of 20 is: 2\n",
      "[10, 30, 10, 20, 10, 20, 30, 10]\n"
     ]
    }
   ],
   "source": [
    "def freqcount(arr, n):\n",
    "    visited = [False for i in range(n)]\n",
    "    for i in range(n):\n",
    "        if visited[i] == True:\n",
    "            continue\n",
    "        count = 1\n",
    "        for j in range(i+1, n, 1):\n",
    "            if arr[i] == arr[j]:\n",
    "                visited[j] = True\n",
    "                count += 1\n",
    "        print('Count of', arr[i], 'is:', count)\n",
    "\n",
    "if __name__ == '__main__':\n",
    "    n = int(input(\"Enter number of elements: \"))\n",
    "    arr = list(map(int, input().split()))\n",
    "    freqcount(arr, n)\n",
    "    print(arr)"
   ]
  },
  {
   "cell_type": "code",
   "execution_count": 3,
   "id": "86c60b32",
   "metadata": {},
   "outputs": [
    {
     "name": "stdout",
     "output_type": "stream",
     "text": [
      "Enter number of elements: 8\n",
      "10 30 10 20 10 20 30 10\n",
      "10 Occours 4 times: \n",
      "20 Occours 2 times: \n",
      "30 Occours 2 times: \n"
     ]
    }
   ],
   "source": [
    "def countdistinct(arr, n):\n",
    "    arr.sort()\n",
    "    i = 0\n",
    "    while i < n:\n",
    "        count = 1\n",
    "        for j in range(i + 1, n):\n",
    "            if arr[i] == arr[j]:\n",
    "                count += 1\n",
    "            else:\n",
    "                break\n",
    "        print(\"{0} Occours {1} times: \".format(arr[i], count))\n",
    "        i += count\n",
    "if __name__ == \"__main__\":\n",
    "    n = int(input(\"Enter number of elements: \"))\n",
    "    arr = list(map(int, input().split()))\n",
    "    countdistinct(arr, n)"
   ]
  }
 ],
 "metadata": {
  "kernelspec": {
   "display_name": "Python 3 (ipykernel)",
   "language": "python",
   "name": "python3"
  },
  "language_info": {
   "codemirror_mode": {
    "name": "ipython",
    "version": 3
   },
   "file_extension": ".py",
   "mimetype": "text/x-python",
   "name": "python",
   "nbconvert_exporter": "python",
   "pygments_lexer": "ipython3",
   "version": "3.9.7"
  }
 },
 "nbformat": 4,
 "nbformat_minor": 5
}
