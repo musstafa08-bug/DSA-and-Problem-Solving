{
 "cells": [
  {
   "cell_type": "markdown",
   "id": "067868b0",
   "metadata": {},
   "source": [
    "# Find the Smallest and largest element in an array"
   ]
  },
  {
   "cell_type": "code",
   "execution_count": 1,
   "id": "e625e962",
   "metadata": {},
   "outputs": [
    {
     "name": "stdout",
     "output_type": "stream",
     "text": [
      "Enter number of elements: 7\n",
      "10 89 9 56 4 80 8\n",
      "Minimum element in the array is:  4\n",
      "Maximum element in the array is:  89\n"
     ]
    }
   ],
   "source": [
    "#using iteration\n",
    "n = int(input(\"Enter number of elements: \"))\n",
    "arr = list(map(int, input().split()))\n",
    "min_ele = arr[0]\n",
    "max_ele = arr[0]\n",
    "for i in range(n):\n",
    "    if arr[i] < min_ele:\n",
    "        min_ele = arr[i]\n",
    "    if arr[i] > max_ele:\n",
    "        max_ele = arr[i]\n",
    "print(\"Minimum element in the array is: \", min_ele)\n",
    "print(\"Maximum element in the array is: \", max_ele)"
   ]
  },
  {
   "cell_type": "code",
   "execution_count": 2,
   "id": "fa29369e",
   "metadata": {},
   "outputs": [
    {
     "name": "stdout",
     "output_type": "stream",
     "text": [
      "Enter number of elements: 7\n",
      "10\n",
      "90\n",
      "8\n",
      "65\n",
      "6\n",
      "88\n",
      "2\n",
      "[10, 90, 8, 65, 6, 88, 2]\n",
      "Minimum element in the array is:  2\n",
      "Maximum element in the array is:  90\n"
     ]
    }
   ],
   "source": [
    "# using min max\n",
    "n = int(input(\"Enter number of elements: \"))\n",
    "arr = []\n",
    "for i in range(n):\n",
    "    ele = int(input())\n",
    "    arr.append(ele)\n",
    "print(arr)\n",
    "print(\"Minimum element in the array is: \", min(arr))\n",
    "print(\"Maximum element in the array is: \", max(arr))"
   ]
  },
  {
   "cell_type": "code",
   "execution_count": 3,
   "id": "3c54c903",
   "metadata": {},
   "outputs": [
    {
     "name": "stdout",
     "output_type": "stream",
     "text": [
      "7\n",
      "10 89 9 56 4 80 8\n",
      "Minimum element in the array is:  4\n",
      "Maximum element in the array is:  89\n"
     ]
    }
   ],
   "source": [
    "# using sort\n",
    "n = int(input())\n",
    "arr = list(map(int, input().split()))\n",
    "arr.sort()\n",
    "print(\"Minimum element in the array is: \", arr[0])\n",
    "print(\"Maximum element in the array is: \", arr[-1])"
   ]
  },
  {
   "cell_type": "code",
   "execution_count": null,
   "id": "f57a0089",
   "metadata": {},
   "outputs": [],
   "source": []
  }
 ],
 "metadata": {
  "kernelspec": {
   "display_name": "Python 3 (ipykernel)",
   "language": "python",
   "name": "python3"
  },
  "language_info": {
   "codemirror_mode": {
    "name": "ipython",
    "version": 3
   },
   "file_extension": ".py",
   "mimetype": "text/x-python",
   "name": "python",
   "nbconvert_exporter": "python",
   "pygments_lexer": "ipython3",
   "version": "3.9.7"
  }
 },
 "nbformat": 4,
 "nbformat_minor": 5
}
